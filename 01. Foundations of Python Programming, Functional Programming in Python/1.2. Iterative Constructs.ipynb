{
 "cells": [
  {
   "cell_type": "markdown",
   "metadata": {},
   "source": [
    "Iterative constructs are implemented through:\n",
    "\n",
    "    1. While loops - Execute a set of statements as long as the condition supplied to the while loop is true\n",
    "    2. For loop - Used to iterate on python collections like lists, tuples, strings etc."
   ]
  },
  {
   "cell_type": "code",
   "execution_count": null,
   "metadata": {
    "slideshow": {
     "slide_type": "slide"
    }
   },
   "outputs": [],
   "source": [
    "marks1 = int(input(\"Enter Marks1 :\"))\n",
    "marks2 = int(input(\"Enter Marks2 : \"))\n",
    "marks3 = int(input(\"Enter Marks3 : \"))\n",
    "total = marks1 + marks2 + marks3\n",
    "average = total/3\n",
    "print(average)"
   ]
  },
  {
   "cell_type": "code",
   "execution_count": null,
   "metadata": {},
   "outputs": [],
   "source": []
  },
  {
   "cell_type": "code",
   "execution_count": null,
   "metadata": {},
   "outputs": [],
   "source": []
  },
  {
   "cell_type": "code",
   "execution_count": null,
   "metadata": {},
   "outputs": [],
   "source": []
  },
  {
   "cell_type": "markdown",
   "metadata": {},
   "source": [
    "Lets extend this code to Find out if the student is qualified or not based on the average score.\n",
    "\n",
    "A student is qualified if his average of 3 scores is above 75 else the student is not qualified."
   ]
  },
  {
   "cell_type": "code",
   "execution_count": null,
   "metadata": {},
   "outputs": [],
   "source": [
    "marks1 = int(input(\"Enter Marks1 :\"))\n",
    "marks2 = int(input(\"Enter Marks2 : \"))\n",
    "marks3 = int(input(\"Enter Marks3 : \"))\n",
    "total = marks1 + marks2 + marks3\n",
    "average = total/3\n",
    "if average > 75:\n",
    "    print(\"Student Qualified\")\n",
    "else:\n",
    "    print(\"Student Not Qualified\")"
   ]
  },
  {
   "cell_type": "code",
   "execution_count": null,
   "metadata": {},
   "outputs": [],
   "source": []
  },
  {
   "cell_type": "code",
   "execution_count": null,
   "metadata": {},
   "outputs": [],
   "source": []
  },
  {
   "cell_type": "code",
   "execution_count": null,
   "metadata": {},
   "outputs": [],
   "source": []
  },
  {
   "cell_type": "markdown",
   "metadata": {},
   "source": [
    "Now, suppose the same task is to be repearted for n students, where n is the no of students which is taken as an input from user."
   ]
  },
  {
   "cell_type": "code",
   "execution_count": null,
   "metadata": {},
   "outputs": [],
   "source": [
    "#for n students, Accept marks in 3 subjects from user, Compute the average and find if the student is qualified or not.\n",
    "# A student is qualified if his average is >=75, else the student is not qualified.\n",
    "noOfStudents = int(input(\"Enter the Number of Students : \"))\n",
    "counter = 1\n",
    "while counter <= noOfStudents:\n",
    "    \n",
    "    marks1 = int(input(\"Enter Marks1 :\"))\n",
    "    marks2 = int(input(\"Enter Marks2 : \"))\n",
    "    marks3 = int(input(\"Enter Marks3 : \"))\n",
    "    total = marks1 + marks2 + marks3\n",
    "    average = total/3\n",
    "    if average >= 75:\n",
    "        print(\"Student Qualified\")\n",
    "    else:\n",
    "        print(\"Student Not Qualified\")\n",
    "    counter = counter + 1"
   ]
  },
  {
   "cell_type": "code",
   "execution_count": null,
   "metadata": {},
   "outputs": [],
   "source": [
    "#Given a list of numbers, find the number of elements in the list and compute the mean\n",
    "numList = [10,100,300,40,50,60,60,60,60,65,65,75,55,54,67]\n",
    "count   = 0\n",
    "Sum = 0\n",
    "for element in numList:\n",
    "    count = count +1\n",
    "    Sum = Sum+element\n",
    "Mean = round(Sum/count,2)\n",
    "print(Mean)"
   ]
  },
  {
   "cell_type": "code",
   "execution_count": null,
   "metadata": {},
   "outputs": [],
   "source": [
    "# Take numList and Only print elements of the list which are greater than 50"
   ]
  },
  {
   "cell_type": "code",
   "execution_count": null,
   "metadata": {},
   "outputs": [],
   "source": [
    "for elem in numList:\n",
    "    if elem > 50:\n",
    "        print(elem)"
   ]
  }
 ],
 "metadata": {
  "kernelspec": {
   "display_name": "Python 3 (ipykernel)",
   "language": "python",
   "name": "python3"
  },
  "language_info": {
   "codemirror_mode": {
    "name": "ipython",
    "version": 3
   },
   "file_extension": ".py",
   "mimetype": "text/x-python",
   "name": "python",
   "nbconvert_exporter": "python",
   "pygments_lexer": "ipython3",
   "version": "3.9.13"
  }
 },
 "nbformat": 4,
 "nbformat_minor": 2
}
