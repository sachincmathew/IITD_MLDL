{
 "cells": [
  {
   "cell_type": "markdown",
   "metadata": {},
   "source": [
    "Now suppose for a given number, lets check if the number is even or odd. Supose the number x equal to 15 is the x mod 2 returns 0 then  conclude number is even else  conclude the number is odd. here either the if block or the else block gets executed. Here if is a key word followed by the condition and a colon.the code is right indented within the if block. else: beigns a new block and the next statement is again right indented.\n",
    "Here either the if block or the else block gets executed"
   ]
  },
  {
   "cell_type": "code",
   "execution_count": 1,
   "metadata": {},
   "outputs": [
    {
     "name": "stdout",
     "output_type": "stream",
     "text": [
      "17 is odd\n"
     ]
    }
   ],
   "source": [
    "x=17\n",
    "if x%2 == 0:\n",
    "    print(x, 'is even')\n",
    "else:\n",
    "    print(x, 'is odd')"
   ]
  },
  {
   "cell_type": "markdown",
   "metadata": {},
   "source": [
    "Now lets take an example of testing multiple if conditions seperately where for a given number check if the number if less than 10. Also check if the number is > 0. Here both the conditions are checked one after the other"
   ]
  },
  {
   "cell_type": "code",
   "execution_count": 2,
   "metadata": {},
   "outputs": [
    {
     "name": "stdout",
     "output_type": "stream",
     "text": [
      "x is Smaller than 10\n",
      "this is the first if block\n",
      "x is a negative number\n"
     ]
    }
   ],
   "source": [
    "#Multiple if\n",
    "x = -5\n",
    "if x < 10:\n",
    "    print('x is Smaller than 10')\n",
    "    print('this is the first if block')\n",
    "else:\n",
    "    print('x is greater than 10')\n",
    "if x >= 0:\n",
    "    print('x is Bigger than and equal to 0')\n",
    "    print('this is the second if block')\n",
    "else:\n",
    "    print('x is a negative number')"
   ]
  },
  {
   "cell_type": "markdown",
   "metadata": {},
   "source": [
    "Now lets take an example of if, else if and else. Here we first check if x is less than y if so, it prints and completes the program. if x is not less than y it checks for the condition if x is greater than y, if so prints x is greater than y. if both of these conditions fail, prints x and y are equal"
   ]
  },
  {
   "cell_type": "code",
   "execution_count": null,
   "metadata": {},
   "outputs": [],
   "source": [
    "#Chained conditionas\n",
    "x = 20\n",
    "y = 20\n",
    "if x < y:\n",
    "    print('x is less than y')\n",
    "elif x > y:\n",
    "    print('x is greater than y')\n",
    "else:\n",
    "    print('x and y are equal')"
   ]
  },
  {
   "cell_type": "markdown",
   "metadata": {},
   "source": [
    "In the next example if x is greater than 0 the second condition is checked, if x is less than 10. if both the conditions are satisfied it prints x is a positive single digit number"
   ]
  },
  {
   "cell_type": "code",
   "execution_count": null,
   "metadata": {},
   "outputs": [],
   "source": [
    "#nested if\n",
    "x=5\n",
    "if x > 0:\n",
    "    if x < 10:\n",
    "        print('x is a positive single-digit number.')"
   ]
  },
  {
   "cell_type": "markdown",
   "metadata": {},
   "source": [
    "Multiple conditions can be combined using \"and\" operator where both the conditions are to be satisfied for the if block to be executed. Here \"and\" operator is called as the short circuit and operator. The second conditon is checked only if the first condition is satisfied."
   ]
  },
  {
   "cell_type": "code",
   "execution_count": null,
   "metadata": {},
   "outputs": [],
   "source": [
    "# Combining conditions using and operator\n",
    "if x > 0 and x < 10:\n",
    "    print('x is a positive single-digit number.')"
   ]
  },
  {
   "cell_type": "markdown",
   "metadata": {},
   "source": [
    "Multiple conditions can be combined using or operator where either of the conditions are to be satisfied for the if block to be executed. Here or is called as the short circuit or operator. The second conditon is checked only if the first condition is not satisfied or if the first condition is evaluated to False"
   ]
  },
  {
   "cell_type": "code",
   "execution_count": null,
   "metadata": {},
   "outputs": [],
   "source": [
    "#combining conditions using or\n",
    "x=15\n",
    "y=16\n",
    "if x%10 == 0 or y %10 ==0:\n",
    "    print('Either x or y is divisible by 10')"
   ]
  },
  {
   "cell_type": "markdown",
   "metadata": {},
   "source": [
    "Not operator is used to negate conditions"
   ]
  },
  {
   "cell_type": "code",
   "execution_count": null,
   "metadata": {},
   "outputs": [],
   "source": [
    "x=4\n",
    "if not (x>5):\n",
    "    print(\"Number is less than 5\")"
   ]
  }
 ],
 "metadata": {
  "kernelspec": {
   "display_name": "Python 3 (ipykernel)",
   "language": "python",
   "name": "python3"
  },
  "language_info": {
   "codemirror_mode": {
    "name": "ipython",
    "version": 3
   },
   "file_extension": ".py",
   "mimetype": "text/x-python",
   "name": "python",
   "nbconvert_exporter": "python",
   "pygments_lexer": "ipython3",
   "version": "3.9.13"
  }
 },
 "nbformat": 4,
 "nbformat_minor": 2
}
